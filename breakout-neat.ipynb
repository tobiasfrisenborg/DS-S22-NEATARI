{
 "cells": [
  {
   "cell_type": "markdown",
   "metadata": {},
   "source": [
    "# NEATARI\n",
    "Please refer to the readme for an overview and instructions on running training.\n",
    "\n",
    "TODO:\n",
    "- [ ] Add rendering capabilities to the Breakout class.\n",
    "- [ ] Create gif files for NEAT playing the game, add as example checkpoints in github."
   ]
  },
  {
   "cell_type": "code",
   "execution_count": null,
   "metadata": {},
   "outputs": [],
   "source": [
    "import os, time, gym, neat\n",
    "import numpy as np\n",
    "from src.environment import make_neat_breakout\n",
    "\n",
    "config_path = 'neat_config.ini'\n",
    "env = make_neat_breakout(\n",
    "    config_path,\n",
    "    from_checkpoint=('eb4bbe1c-fe6e-4138-b79e-658a03077096', 3996),\n",
    "    deterministic=True)"
   ]
  },
  {
   "cell_type": "code",
   "execution_count": null,
   "metadata": {},
   "outputs": [],
   "source": [
    "env.train(generations=1)"
   ]
  },
  {
   "cell_type": "code",
   "execution_count": null,
   "metadata": {},
   "outputs": [],
   "source": [
    "best_genome = env.pool.best_genome\n",
    "print(best_genome)"
   ]
  },
  {
   "cell_type": "code",
   "execution_count": null,
   "metadata": {},
   "outputs": [],
   "source": [
    "# Evaluate best genome performance\n",
    "best_genome = env.pool.best_genome\n",
    "non_deterministic = make_neat_breakout(deterministic=False, config_path=config_path)\n",
    "\n",
    "fitness_list = []\n",
    "\n",
    "for i in range(1000):\n",
    "    fitness = non_deterministic.evaluate_genome(best_genome)\n",
    "    fitness_list.append(fitness)\n",
    "\n",
    "print(f\"Best genome\\nFitness mean: {np.mean(fitness_list)}, SD: {np.std(fitness_list)}\")"
   ]
  },
  {
   "cell_type": "code",
   "execution_count": null,
   "metadata": {},
   "outputs": [],
   "source": []
  }
 ],
 "metadata": {
  "interpreter": {
   "hash": "0ef7041acbb988853f991c93d787524fc2e20d4ae728d83db993a879d5295a6c"
  },
  "kernelspec": {
   "display_name": "Python 3.10.2 ('.neat_venv': venv)",
   "language": "python",
   "name": "python3"
  },
  "language_info": {
   "codemirror_mode": {
    "name": "ipython",
    "version": 3
   },
   "file_extension": ".py",
   "mimetype": "text/x-python",
   "name": "python",
   "nbconvert_exporter": "python",
   "pygments_lexer": "ipython3",
   "version": "3.10.2"
  },
  "orig_nbformat": 4
 },
 "nbformat": 4,
 "nbformat_minor": 2
}
